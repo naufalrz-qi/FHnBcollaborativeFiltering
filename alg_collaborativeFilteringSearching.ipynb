{
 "cells": [
  {
   "cell_type": "code",
   "execution_count": null,
   "id": "3f1fdd9e-00c1-43fb-b10f-ff8a20b3619e",
   "metadata": {},
   "outputs": [],
   "source": [
    "from pymongo import MongoClient\n",
    "import numpy as np\n",
    "from sklearn.metrics.pairwise import cosine_similarity\n",
    "import matplotlib.pyplot as plt\n",
    "import seaborn as sns\n",
    "import pandas as pd\n",
    "import json\n",
    "\n",
    "# Connect to MongoDB\n",
    "client = MongoClient('mongodb://localhost:27017')\n",
    "db = client['collaborativefilteringtest']  # Database name\n",
    "users_collection = db['users']\n",
    "posts_collection = db['posts']\n",
    "likes_collection = db['likes']\n"
   ]
  },
  {
   "cell_type": "code",
   "execution_count": null,
   "id": "2132edf7-6c63-4ebe-8651-16884802d558",
   "metadata": {},
   "outputs": [],
   "source": [
    "# Retrieve data\n",
    "likes = list(likes_collection.find())\n",
    "\n",
    "user_ids = list(users_collection.distinct('_id'))\n",
    "post_ids = list(posts_collection.distinct('_id'))\n",
    "\n",
    "# Create user-post matrix\n",
    "user_post_matrix = pd.DataFrame(0, index=user_ids, columns=post_ids)\n",
    "for like in likes:\n",
    "    user_post_matrix.at[like['user_id'], like['post_id']] = 1\n",
    "\n",
    "\n",
    "print('post_id: ', post_ids , 'user_ids: ', user_ids)\n",
    "\n",
    "# Calculate user similarity\n",
    "similarity_matrix = cosine_similarity(user_post_matrix)\n",
    "user_similarities = pd.DataFrame(similarity_matrix, index=user_ids, columns=user_ids)"
   ]
  },
  {
   "cell_type": "code",
   "execution_count": null,
   "id": "7bc82acb-efdd-41d0-820a-80137e71fa23",
   "metadata": {},
   "outputs": [],
   "source": [
    "\n",
    "# Recommend posts\n",
    "def recommend_posts(user_id, user_post_matrix, user_similarities, top_n=10):\n",
    "    similar_users = user_similarities[user_id].sort_values(ascending=False).index[1:top_n+1]\n",
    "    similar_users_posts = user_post_matrix.loc[similar_users].sum(axis=0)\n",
    "    recommended_posts = similar_users_posts[similar_users_posts > 0].index.difference(user_post_matrix.loc[user_id][user_post_matrix.loc[user_id] > 0].index)\n",
    "    return recommended_posts\n",
    "\n",
    "current_user_id = 'some_user_id'  # replace with the actual user id\n",
    "recommended_posts = recommend_posts(current_user_id, user_post_matrix, user_similarities)\n"
   ]
  },
  {
   "cell_type": "code",
   "execution_count": null,
   "id": "1c7ead89-173b-47aa-81e9-c4919ad5adcc",
   "metadata": {},
   "outputs": [],
   "source": [
    "# Integrate with search results\n",
    "def search_posts(query):\n",
    "    # Placeholder for search logic\n",
    "    return posts_collection.find({'content': {'$regex': query, '$options': 'i'}})\n",
    "\n",
    "search_results = search_posts('search_query')\n",
    "search_results_with_recommendations = list(set(search_results) | set(recommended_posts))"
   ]
  }
 ],
 "metadata": {
  "kernelspec": {
   "display_name": "Python 3 (ipykernel)",
   "language": "python",
   "name": "python3"
  },
  "language_info": {
   "codemirror_mode": {
    "name": "ipython",
    "version": 3
   },
   "file_extension": ".py",
   "mimetype": "text/x-python",
   "name": "python",
   "nbconvert_exporter": "python",
   "pygments_lexer": "ipython3",
   "version": "3.12.4"
  }
 },
 "nbformat": 4,
 "nbformat_minor": 5
}
